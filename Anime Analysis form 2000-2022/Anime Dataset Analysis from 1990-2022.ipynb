{
 "cells": [
  {
   "cell_type": "raw",
   "id": "0bcf8468",
   "metadata": {},
   "source": [
    "Dataset Name : Anime Movie Analysis from 1990-2022\n",
    "Data link :https://www.kaggle.com/datasets/danielalbarracinm/list-of-anime-from-1990-to-2022?datasetId=2288959\n",
    "Date : 23/06/2022 (02.45 Am)"
   ]
  },
  {
   "cell_type": "markdown",
   "id": "2c838d4a",
   "metadata": {},
   "source": [
    "# 1. Importing necessaries libraries"
   ]
  },
  {
   "cell_type": "code",
   "execution_count": 1,
   "id": "ff30fbc9",
   "metadata": {},
   "outputs": [],
   "source": [
    "import numpy as np, pandas as pd, seaborn as sns, matplotlib.pyplot as plt\n",
    "\n",
    "import warnings\n",
    "warnings.filterwarnings(\"ignore\")"
   ]
  },
  {
   "cell_type": "markdown",
   "id": "235a0726",
   "metadata": {},
   "source": [
    "## 2. Reading and Understanding data"
   ]
  },
  {
   "cell_type": "code",
   "execution_count": 2,
   "id": "d9d411b1",
   "metadata": {},
   "outputs": [],
   "source": [
    "anime_df = pd.read_csv(\"animeflv.csv\")"
   ]
  },
  {
   "cell_type": "code",
   "execution_count": 3,
   "id": "b7f3e764",
   "metadata": {},
   "outputs": [
    {
     "data": {
      "text/html": [
       "<div>\n",
       "<style scoped>\n",
       "    .dataframe tbody tr th:only-of-type {\n",
       "        vertical-align: middle;\n",
       "    }\n",
       "\n",
       "    .dataframe tbody tr th {\n",
       "        vertical-align: top;\n",
       "    }\n",
       "\n",
       "    .dataframe thead th {\n",
       "        text-align: right;\n",
       "    }\n",
       "</style>\n",
       "<table border=\"1\" class=\"dataframe\">\n",
       "  <thead>\n",
       "    <tr style=\"text-align: right;\">\n",
       "      <th></th>\n",
       "      <th>title</th>\n",
       "      <th>description</th>\n",
       "      <th>year</th>\n",
       "      <th>type</th>\n",
       "      <th>rate_start</th>\n",
       "      <th>votes</th>\n",
       "      <th>status</th>\n",
       "      <th>followers</th>\n",
       "      <th>episodes</th>\n",
       "      <th>genders</th>\n",
       "      <th>url_anime</th>\n",
       "      <th>image</th>\n",
       "    </tr>\n",
       "  </thead>\n",
       "  <tbody>\n",
       "    <tr>\n",
       "      <th>1474</th>\n",
       "      <td>Thermae Romae</td>\n",
       "      <td>En la Roma de Adriano, nos encontramos a Luciu...</td>\n",
       "      <td>2012</td>\n",
       "      <td>Anime</td>\n",
       "      <td>4.6</td>\n",
       "      <td>55</td>\n",
       "      <td>Finalizado</td>\n",
       "      <td>202</td>\n",
       "      <td>7</td>\n",
       "      <td>Comedia,Historico,Seinen,</td>\n",
       "      <td>https://www3.animeflv.net/anime/thermae-romae</td>\n",
       "      <td>https://www3.animeflv.net/uploads/animes/cover...</td>\n",
       "    </tr>\n",
       "    <tr>\n",
       "      <th>1867</th>\n",
       "      <td>Sora no Otoshimono Final: Eternal My Master</td>\n",
       "      <td>La segunda película de Sora no Otoshimono.</td>\n",
       "      <td>2014</td>\n",
       "      <td>Película</td>\n",
       "      <td>4.5</td>\n",
       "      <td>371</td>\n",
       "      <td>Finalizado</td>\n",
       "      <td>2584</td>\n",
       "      <td>1</td>\n",
       "      <td>Ciencia Ficción,Comedia,Ecchi,Harem,Shounen,So...</td>\n",
       "      <td>https://www3.animeflv.net/anime/sora-no-otoshi...</td>\n",
       "      <td>https://www3.animeflv.net/uploads/animes/cover...</td>\n",
       "    </tr>\n",
       "    <tr>\n",
       "      <th>2205</th>\n",
       "      <td>Saenai Heroine no Sodatekata</td>\n",
       "      <td>La vida de Tomoya Aki, un otaku de preparatori...</td>\n",
       "      <td>2015</td>\n",
       "      <td>Anime</td>\n",
       "      <td>4.6</td>\n",
       "      <td>1395</td>\n",
       "      <td>Finalizado</td>\n",
       "      <td>16539</td>\n",
       "      <td>12</td>\n",
       "      <td>Comedia,Ecchi,Escolares,Harem,Romance,</td>\n",
       "      <td>https://www3.animeflv.net/anime/saenai-heroin-...</td>\n",
       "      <td>https://www3.animeflv.net/uploads/animes/cover...</td>\n",
       "    </tr>\n",
       "    <tr>\n",
       "      <th>738</th>\n",
       "      <td>Nagasarete Airantou</td>\n",
       "      <td>Se trata sobre un Ikuto que tiene una pelea co...</td>\n",
       "      <td>2007</td>\n",
       "      <td>Anime</td>\n",
       "      <td>4.7</td>\n",
       "      <td>299</td>\n",
       "      <td>Finalizado</td>\n",
       "      <td>3175</td>\n",
       "      <td>26</td>\n",
       "      <td>Comedia,Ecchi,Fantasía,Harem,Romance,</td>\n",
       "      <td>https://www3.animeflv.net/anime/nagasarete-air...</td>\n",
       "      <td>https://www3.animeflv.net/uploads/animes/cover...</td>\n",
       "    </tr>\n",
       "    <tr>\n",
       "      <th>311</th>\n",
       "      <td>Turn A Gundam II: Moonlight Butterfly</td>\n",
       "      <td>Película recopiladora de la parte final de la ...</td>\n",
       "      <td>2002</td>\n",
       "      <td>Película</td>\n",
       "      <td>3.5</td>\n",
       "      <td>12</td>\n",
       "      <td>Finalizado</td>\n",
       "      <td>42</td>\n",
       "      <td>1</td>\n",
       "      <td>Acción,Ciencia Ficción,Drama,Espacial,Mecha,Mi...</td>\n",
       "      <td>https://www3.animeflv.net/anime/turn-a-gundam-...</td>\n",
       "      <td>https://www3.animeflv.net/uploads/animes/cover...</td>\n",
       "    </tr>\n",
       "  </tbody>\n",
       "</table>\n",
       "</div>"
      ],
      "text/plain": [
       "                                            title  \\\n",
       "1474                                Thermae Romae   \n",
       "1867  Sora no Otoshimono Final: Eternal My Master   \n",
       "2205                 Saenai Heroine no Sodatekata   \n",
       "738                           Nagasarete Airantou   \n",
       "311         Turn A Gundam II: Moonlight Butterfly   \n",
       "\n",
       "                                            description  year      type  \\\n",
       "1474  En la Roma de Adriano, nos encontramos a Luciu...  2012     Anime   \n",
       "1867         La segunda película de Sora no Otoshimono.  2014  Película   \n",
       "2205  La vida de Tomoya Aki, un otaku de preparatori...  2015     Anime   \n",
       "738   Se trata sobre un Ikuto que tiene una pelea co...  2007     Anime   \n",
       "311   Película recopiladora de la parte final de la ...  2002  Película   \n",
       "\n",
       "      rate_start  votes      status  followers  episodes  \\\n",
       "1474         4.6     55  Finalizado        202         7   \n",
       "1867         4.5    371  Finalizado       2584         1   \n",
       "2205         4.6   1395  Finalizado      16539        12   \n",
       "738          4.7    299  Finalizado       3175        26   \n",
       "311          3.5     12  Finalizado         42         1   \n",
       "\n",
       "                                                genders  \\\n",
       "1474                          Comedia,Historico,Seinen,   \n",
       "1867  Ciencia Ficción,Comedia,Ecchi,Harem,Shounen,So...   \n",
       "2205             Comedia,Ecchi,Escolares,Harem,Romance,   \n",
       "738               Comedia,Ecchi,Fantasía,Harem,Romance,   \n",
       "311   Acción,Ciencia Ficción,Drama,Espacial,Mecha,Mi...   \n",
       "\n",
       "                                              url_anime  \\\n",
       "1474      https://www3.animeflv.net/anime/thermae-romae   \n",
       "1867  https://www3.animeflv.net/anime/sora-no-otoshi...   \n",
       "2205  https://www3.animeflv.net/anime/saenai-heroin-...   \n",
       "738   https://www3.animeflv.net/anime/nagasarete-air...   \n",
       "311   https://www3.animeflv.net/anime/turn-a-gundam-...   \n",
       "\n",
       "                                                  image  \n",
       "1474  https://www3.animeflv.net/uploads/animes/cover...  \n",
       "1867  https://www3.animeflv.net/uploads/animes/cover...  \n",
       "2205  https://www3.animeflv.net/uploads/animes/cover...  \n",
       "738   https://www3.animeflv.net/uploads/animes/cover...  \n",
       "311   https://www3.animeflv.net/uploads/animes/cover...  "
      ]
     },
     "execution_count": 3,
     "metadata": {},
     "output_type": "execute_result"
    }
   ],
   "source": [
    "anime_df.sample(5)"
   ]
  },
  {
   "cell_type": "code",
   "execution_count": 4,
   "id": "077860a2",
   "metadata": {},
   "outputs": [
    {
     "data": {
      "text/html": [
       "<div>\n",
       "<style scoped>\n",
       "    .dataframe tbody tr th:only-of-type {\n",
       "        vertical-align: middle;\n",
       "    }\n",
       "\n",
       "    .dataframe tbody tr th {\n",
       "        vertical-align: top;\n",
       "    }\n",
       "\n",
       "    .dataframe thead th {\n",
       "        text-align: right;\n",
       "    }\n",
       "</style>\n",
       "<table border=\"1\" class=\"dataframe\">\n",
       "  <thead>\n",
       "    <tr style=\"text-align: right;\">\n",
       "      <th></th>\n",
       "      <th>title</th>\n",
       "      <th>description</th>\n",
       "      <th>year</th>\n",
       "      <th>type</th>\n",
       "      <th>rate_start</th>\n",
       "      <th>votes</th>\n",
       "      <th>status</th>\n",
       "      <th>followers</th>\n",
       "      <th>episodes</th>\n",
       "      <th>genders</th>\n",
       "      <th>url_anime</th>\n",
       "      <th>image</th>\n",
       "    </tr>\n",
       "  </thead>\n",
       "  <tbody>\n",
       "    <tr>\n",
       "      <th>0</th>\n",
       "      <td>Dragon Ball Z Especial: Freezer contra el padr...</td>\n",
       "      <td>Los Saiyajin han trabajado muy duro para Freez...</td>\n",
       "      <td>1990</td>\n",
       "      <td>OVA</td>\n",
       "      <td>4.3</td>\n",
       "      <td>218</td>\n",
       "      <td>Finalizado</td>\n",
       "      <td>1249</td>\n",
       "      <td>1</td>\n",
       "      <td>NaN</td>\n",
       "      <td>https://www3.animeflv.net/anime/dragon-ball-z-...</td>\n",
       "      <td>https://www3.animeflv.net/uploads/animes/cover...</td>\n",
       "    </tr>\n",
       "    <tr>\n",
       "      <th>1</th>\n",
       "      <td>Dragon Ball Z Pelicula 03: La batalla más gran...</td>\n",
       "      <td>Una banda de desértores del ejército de Freeze...</td>\n",
       "      <td>1990</td>\n",
       "      <td>Película</td>\n",
       "      <td>3.9</td>\n",
       "      <td>173</td>\n",
       "      <td>Finalizado</td>\n",
       "      <td>1090</td>\n",
       "      <td>1</td>\n",
       "      <td>Aventuras,Ciencia Ficción,Comedia,Fantasía,Sho...</td>\n",
       "      <td>https://www3.animeflv.net/anime/dragon-ball-z-...</td>\n",
       "      <td>https://www3.animeflv.net/uploads/animes/cover...</td>\n",
       "    </tr>\n",
       "    <tr>\n",
       "      <th>2</th>\n",
       "      <td>Lodoss-tou Senki</td>\n",
       "      <td>La historia se centra de alrededor de un joven...</td>\n",
       "      <td>1990</td>\n",
       "      <td>Anime</td>\n",
       "      <td>4.4</td>\n",
       "      <td>95</td>\n",
       "      <td>Finalizado</td>\n",
       "      <td>734</td>\n",
       "      <td>13</td>\n",
       "      <td>Acción,Aventuras,Fantasía,Magia,Shounen,Sobren...</td>\n",
       "      <td>https://www3.animeflv.net/anime/lodoss-tou-senki</td>\n",
       "      <td>https://www3.animeflv.net/uploads/animes/cover...</td>\n",
       "    </tr>\n",
       "    <tr>\n",
       "      <th>3</th>\n",
       "      <td>Fushigi no Umi no Nadia</td>\n",
       "      <td>La revolución industrial ha terminado y el mun...</td>\n",
       "      <td>1990</td>\n",
       "      <td>Anime</td>\n",
       "      <td>4.5</td>\n",
       "      <td>99</td>\n",
       "      <td>Finalizado</td>\n",
       "      <td>841</td>\n",
       "      <td>39</td>\n",
       "      <td>Aventuras,Ciencia Ficción,Comedia,Historico,Ro...</td>\n",
       "      <td>https://www3.animeflv.net/anime/fushigi-no-umi...</td>\n",
       "      <td>https://www3.animeflv.net/uploads/animes/cover...</td>\n",
       "    </tr>\n",
       "    <tr>\n",
       "      <th>4</th>\n",
       "      <td>Dragon Ball Z Pelicula 02: El hombre más fuert...</td>\n",
       "      <td>La situación empieza con el doctor Uir?, quien...</td>\n",
       "      <td>1990</td>\n",
       "      <td>Película</td>\n",
       "      <td>4.1</td>\n",
       "      <td>124</td>\n",
       "      <td>Finalizado</td>\n",
       "      <td>1070</td>\n",
       "      <td>1</td>\n",
       "      <td>Aventuras,Ciencia Ficción,Comedia,Fantasía,Sho...</td>\n",
       "      <td>https://www3.animeflv.net/anime/dragon-ball-z-...</td>\n",
       "      <td>https://www3.animeflv.net/uploads/animes/cover...</td>\n",
       "    </tr>\n",
       "    <tr>\n",
       "      <th>...</th>\n",
       "      <td>...</td>\n",
       "      <td>...</td>\n",
       "      <td>...</td>\n",
       "      <td>...</td>\n",
       "      <td>...</td>\n",
       "      <td>...</td>\n",
       "      <td>...</td>\n",
       "      <td>...</td>\n",
       "      <td>...</td>\n",
       "      <td>...</td>\n",
       "      <td>...</td>\n",
       "      <td>...</td>\n",
       "    </tr>\n",
       "    <tr>\n",
       "      <th>3404</th>\n",
       "      <td>Saiyuuki Reload: Zeroin</td>\n",
       "      <td>Una vez, la tierra de Togenkyo era una tierra ...</td>\n",
       "      <td>2022</td>\n",
       "      <td>Anime</td>\n",
       "      <td>3.6</td>\n",
       "      <td>230</td>\n",
       "      <td>Finalizado</td>\n",
       "      <td>2953</td>\n",
       "      <td>13</td>\n",
       "      <td>Acción,Aventuras,Comedia,Demonios,Drama,Josei,...</td>\n",
       "      <td>https://www3.animeflv.net/anime/saiyuuki-reloa...</td>\n",
       "      <td>https://www3.animeflv.net/uploads/animes/cover...</td>\n",
       "    </tr>\n",
       "    <tr>\n",
       "      <th>3405</th>\n",
       "      <td>Hakozume: Kouban Joshi no Gyakushuu</td>\n",
       "      <td>Seiko Fuji se graduó en la universidad de poli...</td>\n",
       "      <td>2022</td>\n",
       "      <td>Anime</td>\n",
       "      <td>4.3</td>\n",
       "      <td>429</td>\n",
       "      <td>Finalizado</td>\n",
       "      <td>3694</td>\n",
       "      <td>13</td>\n",
       "      <td>Comedia,Policía,Recuentos de la vida,Seinen,</td>\n",
       "      <td>https://www3.animeflv.net/anime/hakozume-kouba...</td>\n",
       "      <td>https://www3.animeflv.net/uploads/animes/cover...</td>\n",
       "    </tr>\n",
       "    <tr>\n",
       "      <th>3406</th>\n",
       "      <td>Orient</td>\n",
       "      <td>A los 10 años, los mejores amigos, Musashi y K...</td>\n",
       "      <td>2022</td>\n",
       "      <td>Anime</td>\n",
       "      <td>4.3</td>\n",
       "      <td>595</td>\n",
       "      <td>Finalizado</td>\n",
       "      <td>10561</td>\n",
       "      <td>12</td>\n",
       "      <td>Acción,Fantasía,Shounen,</td>\n",
       "      <td>https://www3.animeflv.net/anime/orient</td>\n",
       "      <td>https://www3.animeflv.net/uploads/animes/cover...</td>\n",
       "    </tr>\n",
       "    <tr>\n",
       "      <th>3407</th>\n",
       "      <td>Tokyo 24-ku</td>\n",
       "      <td>La historia se sitúa en una isla artificial co...</td>\n",
       "      <td>2022</td>\n",
       "      <td>Anime</td>\n",
       "      <td>4.4</td>\n",
       "      <td>398</td>\n",
       "      <td>Finalizado</td>\n",
       "      <td>5895</td>\n",
       "      <td>12</td>\n",
       "      <td>Ciencia Ficción,</td>\n",
       "      <td>https://www3.animeflv.net/anime/tokyo-24ku</td>\n",
       "      <td>https://www3.animeflv.net/uploads/animes/cover...</td>\n",
       "    </tr>\n",
       "    <tr>\n",
       "      <th>3408</th>\n",
       "      <td>Leadale no Daichi nite</td>\n",
       "      <td>Debido a un terrible accidente, Keina Kagami s...</td>\n",
       "      <td>2022</td>\n",
       "      <td>Anime</td>\n",
       "      <td>4.5</td>\n",
       "      <td>914</td>\n",
       "      <td>Finalizado</td>\n",
       "      <td>10472</td>\n",
       "      <td>12</td>\n",
       "      <td>Aventuras,Fantasía,</td>\n",
       "      <td>https://www3.animeflv.net/anime/leadale-no-dai...</td>\n",
       "      <td>https://www3.animeflv.net/uploads/animes/cover...</td>\n",
       "    </tr>\n",
       "  </tbody>\n",
       "</table>\n",
       "<p>3409 rows × 12 columns</p>\n",
       "</div>"
      ],
      "text/plain": [
       "                                                  title  \\\n",
       "0     Dragon Ball Z Especial: Freezer contra el padr...   \n",
       "1     Dragon Ball Z Pelicula 03: La batalla más gran...   \n",
       "2                                      Lodoss-tou Senki   \n",
       "3                               Fushigi no Umi no Nadia   \n",
       "4     Dragon Ball Z Pelicula 02: El hombre más fuert...   \n",
       "...                                                 ...   \n",
       "3404                            Saiyuuki Reload: Zeroin   \n",
       "3405                Hakozume: Kouban Joshi no Gyakushuu   \n",
       "3406                                             Orient   \n",
       "3407                                        Tokyo 24-ku   \n",
       "3408                             Leadale no Daichi nite   \n",
       "\n",
       "                                            description  year      type  \\\n",
       "0     Los Saiyajin han trabajado muy duro para Freez...  1990       OVA   \n",
       "1     Una banda de desértores del ejército de Freeze...  1990  Película   \n",
       "2     La historia se centra de alrededor de un joven...  1990     Anime   \n",
       "3     La revolución industrial ha terminado y el mun...  1990     Anime   \n",
       "4     La situación empieza con el doctor Uir?, quien...  1990  Película   \n",
       "...                                                 ...   ...       ...   \n",
       "3404  Una vez, la tierra de Togenkyo era una tierra ...  2022     Anime   \n",
       "3405  Seiko Fuji se graduó en la universidad de poli...  2022     Anime   \n",
       "3406  A los 10 años, los mejores amigos, Musashi y K...  2022     Anime   \n",
       "3407  La historia se sitúa en una isla artificial co...  2022     Anime   \n",
       "3408  Debido a un terrible accidente, Keina Kagami s...  2022     Anime   \n",
       "\n",
       "      rate_start  votes      status  followers  episodes  \\\n",
       "0            4.3    218  Finalizado       1249         1   \n",
       "1            3.9    173  Finalizado       1090         1   \n",
       "2            4.4     95  Finalizado        734        13   \n",
       "3            4.5     99  Finalizado        841        39   \n",
       "4            4.1    124  Finalizado       1070         1   \n",
       "...          ...    ...         ...        ...       ...   \n",
       "3404         3.6    230  Finalizado       2953        13   \n",
       "3405         4.3    429  Finalizado       3694        13   \n",
       "3406         4.3    595  Finalizado      10561        12   \n",
       "3407         4.4    398  Finalizado       5895        12   \n",
       "3408         4.5    914  Finalizado      10472        12   \n",
       "\n",
       "                                                genders  \\\n",
       "0                                                   NaN   \n",
       "1     Aventuras,Ciencia Ficción,Comedia,Fantasía,Sho...   \n",
       "2     Acción,Aventuras,Fantasía,Magia,Shounen,Sobren...   \n",
       "3     Aventuras,Ciencia Ficción,Comedia,Historico,Ro...   \n",
       "4     Aventuras,Ciencia Ficción,Comedia,Fantasía,Sho...   \n",
       "...                                                 ...   \n",
       "3404  Acción,Aventuras,Comedia,Demonios,Drama,Josei,...   \n",
       "3405       Comedia,Policía,Recuentos de la vida,Seinen,   \n",
       "3406                           Acción,Fantasía,Shounen,   \n",
       "3407                                   Ciencia Ficción,   \n",
       "3408                                Aventuras,Fantasía,   \n",
       "\n",
       "                                              url_anime  \\\n",
       "0     https://www3.animeflv.net/anime/dragon-ball-z-...   \n",
       "1     https://www3.animeflv.net/anime/dragon-ball-z-...   \n",
       "2      https://www3.animeflv.net/anime/lodoss-tou-senki   \n",
       "3     https://www3.animeflv.net/anime/fushigi-no-umi...   \n",
       "4     https://www3.animeflv.net/anime/dragon-ball-z-...   \n",
       "...                                                 ...   \n",
       "3404  https://www3.animeflv.net/anime/saiyuuki-reloa...   \n",
       "3405  https://www3.animeflv.net/anime/hakozume-kouba...   \n",
       "3406             https://www3.animeflv.net/anime/orient   \n",
       "3407         https://www3.animeflv.net/anime/tokyo-24ku   \n",
       "3408  https://www3.animeflv.net/anime/leadale-no-dai...   \n",
       "\n",
       "                                                  image  \n",
       "0     https://www3.animeflv.net/uploads/animes/cover...  \n",
       "1     https://www3.animeflv.net/uploads/animes/cover...  \n",
       "2     https://www3.animeflv.net/uploads/animes/cover...  \n",
       "3     https://www3.animeflv.net/uploads/animes/cover...  \n",
       "4     https://www3.animeflv.net/uploads/animes/cover...  \n",
       "...                                                 ...  \n",
       "3404  https://www3.animeflv.net/uploads/animes/cover...  \n",
       "3405  https://www3.animeflv.net/uploads/animes/cover...  \n",
       "3406  https://www3.animeflv.net/uploads/animes/cover...  \n",
       "3407  https://www3.animeflv.net/uploads/animes/cover...  \n",
       "3408  https://www3.animeflv.net/uploads/animes/cover...  \n",
       "\n",
       "[3409 rows x 12 columns]"
      ]
     },
     "execution_count": 4,
     "metadata": {},
     "output_type": "execute_result"
    }
   ],
   "source": [
    "# cloning of dataet for the backup use \n",
    "df = anime_df[:]\n",
    "df"
   ]
  },
  {
   "cell_type": "code",
   "execution_count": 5,
   "id": "dc03fa8a",
   "metadata": {},
   "outputs": [
    {
     "data": {
      "text/plain": [
       "Index(['title', 'description', 'year', 'type', 'rate_start', 'votes', 'status',\n",
       "       'followers', 'episodes', 'genders', 'url_anime', 'image'],\n",
       "      dtype='object')"
      ]
     },
     "execution_count": 5,
     "metadata": {},
     "output_type": "execute_result"
    }
   ],
   "source": [
    "df.columns"
   ]
  },
  {
   "cell_type": "code",
   "execution_count": 6,
   "id": "12e7daa1",
   "metadata": {},
   "outputs": [
    {
     "name": "stdout",
     "output_type": "stream",
     "text": [
      "<class 'pandas.core.frame.DataFrame'>\n",
      "RangeIndex: 3409 entries, 0 to 3408\n",
      "Data columns (total 12 columns):\n",
      " #   Column       Non-Null Count  Dtype  \n",
      "---  ------       --------------  -----  \n",
      " 0   title        3409 non-null   object \n",
      " 1   description  3189 non-null   object \n",
      " 2   year         3409 non-null   int64  \n",
      " 3   type         3409 non-null   object \n",
      " 4   rate_start   3409 non-null   float64\n",
      " 5   votes        3409 non-null   int64  \n",
      " 6   status       3409 non-null   object \n",
      " 7   followers    3409 non-null   int64  \n",
      " 8   episodes     3409 non-null   int64  \n",
      " 9   genders      3403 non-null   object \n",
      " 10  url_anime    3409 non-null   object \n",
      " 11  image        3409 non-null   object \n",
      "dtypes: float64(1), int64(4), object(7)\n",
      "memory usage: 319.7+ KB\n"
     ]
    }
   ],
   "source": [
    "# information of columns\n",
    "df.info()"
   ]
  },
  {
   "cell_type": "code",
   "execution_count": 7,
   "id": "1c1efbfa",
   "metadata": {},
   "outputs": [],
   "source": [
    "int_data = df.select_dtypes(include=\"int64\").shape[1]\n",
    "float_data  = df.select_dtypes(include=\"float64\").shape[1]\n",
    "object_data = df.select_dtypes(include=\"object\").shape[1]"
   ]
  },
  {
   "cell_type": "code",
   "execution_count": 8,
   "id": "f06080cc",
   "metadata": {},
   "outputs": [
    {
     "name": "stdout",
     "output_type": "stream",
     "text": [
      "Total no of int columns : 4\n",
      "Total no of float columns : 1\n",
      "Total no of object columns : 7\n"
     ]
    }
   ],
   "source": [
    "print(\"Total no of int columns :\" , int_data)\n",
    "print(\"Total no of float columns :\" , float_data)\n",
    "print(\"Total no of object columns :\" , object_data)\n",
    "      "
   ]
  },
  {
   "cell_type": "code",
   "execution_count": 9,
   "id": "25ab597e",
   "metadata": {},
   "outputs": [
    {
     "data": {
      "text/plain": [
       "(3409, 12)"
      ]
     },
     "execution_count": 9,
     "metadata": {},
     "output_type": "execute_result"
    }
   ],
   "source": [
    "# shape of dataset\n",
    "df.shape"
   ]
  },
  {
   "cell_type": "code",
   "execution_count": 10,
   "id": "0689dd26",
   "metadata": {},
   "outputs": [
    {
     "data": {
      "text/plain": [
       "title            0\n",
       "description    220\n",
       "year             0\n",
       "type             0\n",
       "rate_start       0\n",
       "votes            0\n",
       "status           0\n",
       "followers        0\n",
       "episodes         0\n",
       "genders          6\n",
       "url_anime        0\n",
       "image            0\n",
       "dtype: int64"
      ]
     },
     "execution_count": 10,
     "metadata": {},
     "output_type": "execute_result"
    }
   ],
   "source": [
    "# checking missing vvalue in data set\n",
    "df.isna().sum()"
   ]
  },
  {
   "cell_type": "code",
   "execution_count": 11,
   "id": "ba523117",
   "metadata": {},
   "outputs": [
    {
     "data": {
      "text/plain": [
       "title          0.000000\n",
       "description    6.453505\n",
       "year           0.000000\n",
       "type           0.000000\n",
       "rate_start     0.000000\n",
       "votes          0.000000\n",
       "status         0.000000\n",
       "followers      0.000000\n",
       "episodes       0.000000\n",
       "genders        0.176005\n",
       "url_anime      0.000000\n",
       "image          0.000000\n",
       "dtype: float64"
      ]
     },
     "execution_count": 11,
     "metadata": {},
     "output_type": "execute_result"
    }
   ],
   "source": [
    "# missing value percentage \n",
    "df.isna().sum() * 100 / len(df)"
   ]
  },
  {
   "cell_type": "markdown",
   "id": "300fd430",
   "metadata": {},
   "source": [
    "`insight`\n",
    "\n",
    "- In this dataset there are **3402 (rows) and 12 (columns)**\n",
    "- There are **4 (int), 1 (float), 7 (object)**m datatypes columns.\n",
    "- In the dataset **\"description\"** and **\"genders\"** having **very few missing vlaues**."
   ]
  },
  {
   "cell_type": "markdown",
   "id": "0a3a247f",
   "metadata": {},
   "source": [
    "## 3 Exlporatory Data Analysis"
   ]
  },
  {
   "cell_type": "code",
   "execution_count": 12,
   "id": "ebd67645",
   "metadata": {},
   "outputs": [
    {
     "data": {
      "text/html": [
       "<div>\n",
       "<style scoped>\n",
       "    .dataframe tbody tr th:only-of-type {\n",
       "        vertical-align: middle;\n",
       "    }\n",
       "\n",
       "    .dataframe tbody tr th {\n",
       "        vertical-align: top;\n",
       "    }\n",
       "\n",
       "    .dataframe thead th {\n",
       "        text-align: right;\n",
       "    }\n",
       "</style>\n",
       "<table border=\"1\" class=\"dataframe\">\n",
       "  <thead>\n",
       "    <tr style=\"text-align: right;\">\n",
       "      <th></th>\n",
       "      <th>year</th>\n",
       "      <th>rate_start</th>\n",
       "      <th>votes</th>\n",
       "      <th>followers</th>\n",
       "      <th>episodes</th>\n",
       "    </tr>\n",
       "  </thead>\n",
       "  <tbody>\n",
       "    <tr>\n",
       "      <th>count</th>\n",
       "      <td>3409.000000</td>\n",
       "      <td>3409.000000</td>\n",
       "      <td>3409.000000</td>\n",
       "      <td>3409.000000</td>\n",
       "      <td>3409.000000</td>\n",
       "    </tr>\n",
       "    <tr>\n",
       "      <th>mean</th>\n",
       "      <td>2012.110883</td>\n",
       "      <td>4.414520</td>\n",
       "      <td>646.961866</td>\n",
       "      <td>5330.671458</td>\n",
       "      <td>24.019947</td>\n",
       "    </tr>\n",
       "    <tr>\n",
       "      <th>std</th>\n",
       "      <td>6.607900</td>\n",
       "      <td>0.329822</td>\n",
       "      <td>1213.509910</td>\n",
       "      <td>9959.263243</td>\n",
       "      <td>126.590564</td>\n",
       "    </tr>\n",
       "    <tr>\n",
       "      <th>min</th>\n",
       "      <td>1990.000000</td>\n",
       "      <td>1.700000</td>\n",
       "      <td>2.000000</td>\n",
       "      <td>20.000000</td>\n",
       "      <td>0.000000</td>\n",
       "    </tr>\n",
       "    <tr>\n",
       "      <th>25%</th>\n",
       "      <td>2008.000000</td>\n",
       "      <td>4.300000</td>\n",
       "      <td>71.000000</td>\n",
       "      <td>512.000000</td>\n",
       "      <td>6.000000</td>\n",
       "    </tr>\n",
       "    <tr>\n",
       "      <th>50%</th>\n",
       "      <td>2013.000000</td>\n",
       "      <td>4.500000</td>\n",
       "      <td>227.000000</td>\n",
       "      <td>1685.000000</td>\n",
       "      <td>12.000000</td>\n",
       "    </tr>\n",
       "    <tr>\n",
       "      <th>75%</th>\n",
       "      <td>2017.000000</td>\n",
       "      <td>4.600000</td>\n",
       "      <td>657.000000</td>\n",
       "      <td>5705.000000</td>\n",
       "      <td>14.000000</td>\n",
       "    </tr>\n",
       "    <tr>\n",
       "      <th>max</th>\n",
       "      <td>2022.000000</td>\n",
       "      <td>4.800000</td>\n",
       "      <td>18759.000000</td>\n",
       "      <td>162714.000000</td>\n",
       "      <td>2199.000000</td>\n",
       "    </tr>\n",
       "  </tbody>\n",
       "</table>\n",
       "</div>"
      ],
      "text/plain": [
       "              year   rate_start         votes      followers     episodes\n",
       "count  3409.000000  3409.000000   3409.000000    3409.000000  3409.000000\n",
       "mean   2012.110883     4.414520    646.961866    5330.671458    24.019947\n",
       "std       6.607900     0.329822   1213.509910    9959.263243   126.590564\n",
       "min    1990.000000     1.700000      2.000000      20.000000     0.000000\n",
       "25%    2008.000000     4.300000     71.000000     512.000000     6.000000\n",
       "50%    2013.000000     4.500000    227.000000    1685.000000    12.000000\n",
       "75%    2017.000000     4.600000    657.000000    5705.000000    14.000000\n",
       "max    2022.000000     4.800000  18759.000000  162714.000000  2199.000000"
      ]
     },
     "execution_count": 12,
     "metadata": {},
     "output_type": "execute_result"
    }
   ],
   "source": [
    "df.describe()"
   ]
  },
  {
   "cell_type": "code",
   "execution_count": 13,
   "id": "e542743b",
   "metadata": {},
   "outputs": [
    {
     "data": {
      "text/html": [
       "<div>\n",
       "<style scoped>\n",
       "    .dataframe tbody tr th:only-of-type {\n",
       "        vertical-align: middle;\n",
       "    }\n",
       "\n",
       "    .dataframe tbody tr th {\n",
       "        vertical-align: top;\n",
       "    }\n",
       "\n",
       "    .dataframe thead th {\n",
       "        text-align: right;\n",
       "    }\n",
       "</style>\n",
       "<table border=\"1\" class=\"dataframe\">\n",
       "  <thead>\n",
       "    <tr style=\"text-align: right;\">\n",
       "      <th></th>\n",
       "      <th>title</th>\n",
       "      <th>description</th>\n",
       "      <th>year</th>\n",
       "      <th>type</th>\n",
       "      <th>rate_start</th>\n",
       "      <th>votes</th>\n",
       "      <th>status</th>\n",
       "      <th>followers</th>\n",
       "      <th>episodes</th>\n",
       "      <th>genders</th>\n",
       "      <th>url_anime</th>\n",
       "      <th>image</th>\n",
       "    </tr>\n",
       "  </thead>\n",
       "  <tbody>\n",
       "    <tr>\n",
       "      <th>1708</th>\n",
       "      <td>Senran Kagura</td>\n",
       "      <td>Senran Kagura es una historia de valentía y am...</td>\n",
       "      <td>2013</td>\n",
       "      <td>Anime</td>\n",
       "      <td>4.4</td>\n",
       "      <td>238</td>\n",
       "      <td>Finalizado</td>\n",
       "      <td>6589</td>\n",
       "      <td>17</td>\n",
       "      <td>Acción,Comedia,Ecchi,Escolares,</td>\n",
       "      <td>https://www3.animeflv.net/anime/senran-kagura</td>\n",
       "      <td>https://www3.animeflv.net/uploads/animes/cover...</td>\n",
       "    </tr>\n",
       "    <tr>\n",
       "      <th>3016</th>\n",
       "      <td>Watashi ni Tenshi ga Maiorita!</td>\n",
       "      <td>Miyako es una tímida joven universitaria que a...</td>\n",
       "      <td>2019</td>\n",
       "      <td>Anime</td>\n",
       "      <td>4.7</td>\n",
       "      <td>1229</td>\n",
       "      <td>Finalizado</td>\n",
       "      <td>11470</td>\n",
       "      <td>13</td>\n",
       "      <td>Comedia,</td>\n",
       "      <td>https://www3.animeflv.net/anime/watashi-ni-ten...</td>\n",
       "      <td>https://www3.animeflv.net/uploads/animes/cover...</td>\n",
       "    </tr>\n",
       "  </tbody>\n",
       "</table>\n",
       "</div>"
      ],
      "text/plain": [
       "                               title  \\\n",
       "1708                   Senran Kagura   \n",
       "3016  Watashi ni Tenshi ga Maiorita!   \n",
       "\n",
       "                                            description  year   type  \\\n",
       "1708  Senran Kagura es una historia de valentía y am...  2013  Anime   \n",
       "3016  Miyako es una tímida joven universitaria que a...  2019  Anime   \n",
       "\n",
       "      rate_start  votes      status  followers  episodes  \\\n",
       "1708         4.4    238  Finalizado       6589        17   \n",
       "3016         4.7   1229  Finalizado      11470        13   \n",
       "\n",
       "                              genders  \\\n",
       "1708  Acción,Comedia,Ecchi,Escolares,   \n",
       "3016                         Comedia,   \n",
       "\n",
       "                                              url_anime  \\\n",
       "1708      https://www3.animeflv.net/anime/senran-kagura   \n",
       "3016  https://www3.animeflv.net/anime/watashi-ni-ten...   \n",
       "\n",
       "                                                  image  \n",
       "1708  https://www3.animeflv.net/uploads/animes/cover...  \n",
       "3016  https://www3.animeflv.net/uploads/animes/cover...  "
      ]
     },
     "execution_count": 13,
     "metadata": {},
     "output_type": "execute_result"
    }
   ],
   "source": [
    "df.sample(2)"
   ]
  },
  {
   "cell_type": "code",
   "execution_count": 14,
   "id": "ca2382c4",
   "metadata": {},
   "outputs": [
    {
     "data": {
      "text/html": [
       "<div>\n",
       "<style scoped>\n",
       "    .dataframe tbody tr th:only-of-type {\n",
       "        vertical-align: middle;\n",
       "    }\n",
       "\n",
       "    .dataframe tbody tr th {\n",
       "        vertical-align: top;\n",
       "    }\n",
       "\n",
       "    .dataframe thead th {\n",
       "        text-align: right;\n",
       "    }\n",
       "</style>\n",
       "<table border=\"1\" class=\"dataframe\">\n",
       "  <thead>\n",
       "    <tr style=\"text-align: right;\">\n",
       "      <th></th>\n",
       "      <th>title</th>\n",
       "      <th>description</th>\n",
       "      <th>year</th>\n",
       "      <th>type</th>\n",
       "      <th>rate_start</th>\n",
       "      <th>votes</th>\n",
       "      <th>status</th>\n",
       "      <th>followers</th>\n",
       "      <th>episodes</th>\n",
       "      <th>genders</th>\n",
       "    </tr>\n",
       "  </thead>\n",
       "  <tbody>\n",
       "    <tr>\n",
       "      <th>0</th>\n",
       "      <td>Dragon Ball Z Especial: Freezer contra el padr...</td>\n",
       "      <td>Los Saiyajin han trabajado muy duro para Freez...</td>\n",
       "      <td>1990</td>\n",
       "      <td>OVA</td>\n",
       "      <td>4.3</td>\n",
       "      <td>218</td>\n",
       "      <td>Finalizado</td>\n",
       "      <td>1249</td>\n",
       "      <td>1</td>\n",
       "      <td>NaN</td>\n",
       "    </tr>\n",
       "    <tr>\n",
       "      <th>1</th>\n",
       "      <td>Dragon Ball Z Pelicula 03: La batalla más gran...</td>\n",
       "      <td>Una banda de desértores del ejército de Freeze...</td>\n",
       "      <td>1990</td>\n",
       "      <td>Película</td>\n",
       "      <td>3.9</td>\n",
       "      <td>173</td>\n",
       "      <td>Finalizado</td>\n",
       "      <td>1090</td>\n",
       "      <td>1</td>\n",
       "      <td>Aventuras,Ciencia Ficción,Comedia,Fantasía,Sho...</td>\n",
       "    </tr>\n",
       "    <tr>\n",
       "      <th>2</th>\n",
       "      <td>Lodoss-tou Senki</td>\n",
       "      <td>La historia se centra de alrededor de un joven...</td>\n",
       "      <td>1990</td>\n",
       "      <td>Anime</td>\n",
       "      <td>4.4</td>\n",
       "      <td>95</td>\n",
       "      <td>Finalizado</td>\n",
       "      <td>734</td>\n",
       "      <td>13</td>\n",
       "      <td>Acción,Aventuras,Fantasía,Magia,Shounen,Sobren...</td>\n",
       "    </tr>\n",
       "    <tr>\n",
       "      <th>3</th>\n",
       "      <td>Fushigi no Umi no Nadia</td>\n",
       "      <td>La revolución industrial ha terminado y el mun...</td>\n",
       "      <td>1990</td>\n",
       "      <td>Anime</td>\n",
       "      <td>4.5</td>\n",
       "      <td>99</td>\n",
       "      <td>Finalizado</td>\n",
       "      <td>841</td>\n",
       "      <td>39</td>\n",
       "      <td>Aventuras,Ciencia Ficción,Comedia,Historico,Ro...</td>\n",
       "    </tr>\n",
       "    <tr>\n",
       "      <th>4</th>\n",
       "      <td>Dragon Ball Z Pelicula 02: El hombre más fuert...</td>\n",
       "      <td>La situación empieza con el doctor Uir?, quien...</td>\n",
       "      <td>1990</td>\n",
       "      <td>Película</td>\n",
       "      <td>4.1</td>\n",
       "      <td>124</td>\n",
       "      <td>Finalizado</td>\n",
       "      <td>1070</td>\n",
       "      <td>1</td>\n",
       "      <td>Aventuras,Ciencia Ficción,Comedia,Fantasía,Sho...</td>\n",
       "    </tr>\n",
       "    <tr>\n",
       "      <th>...</th>\n",
       "      <td>...</td>\n",
       "      <td>...</td>\n",
       "      <td>...</td>\n",
       "      <td>...</td>\n",
       "      <td>...</td>\n",
       "      <td>...</td>\n",
       "      <td>...</td>\n",
       "      <td>...</td>\n",
       "      <td>...</td>\n",
       "      <td>...</td>\n",
       "    </tr>\n",
       "    <tr>\n",
       "      <th>3404</th>\n",
       "      <td>Saiyuuki Reload: Zeroin</td>\n",
       "      <td>Una vez, la tierra de Togenkyo era una tierra ...</td>\n",
       "      <td>2022</td>\n",
       "      <td>Anime</td>\n",
       "      <td>3.6</td>\n",
       "      <td>230</td>\n",
       "      <td>Finalizado</td>\n",
       "      <td>2953</td>\n",
       "      <td>13</td>\n",
       "      <td>Acción,Aventuras,Comedia,Demonios,Drama,Josei,...</td>\n",
       "    </tr>\n",
       "    <tr>\n",
       "      <th>3405</th>\n",
       "      <td>Hakozume: Kouban Joshi no Gyakushuu</td>\n",
       "      <td>Seiko Fuji se graduó en la universidad de poli...</td>\n",
       "      <td>2022</td>\n",
       "      <td>Anime</td>\n",
       "      <td>4.3</td>\n",
       "      <td>429</td>\n",
       "      <td>Finalizado</td>\n",
       "      <td>3694</td>\n",
       "      <td>13</td>\n",
       "      <td>Comedia,Policía,Recuentos de la vida,Seinen,</td>\n",
       "    </tr>\n",
       "    <tr>\n",
       "      <th>3406</th>\n",
       "      <td>Orient</td>\n",
       "      <td>A los 10 años, los mejores amigos, Musashi y K...</td>\n",
       "      <td>2022</td>\n",
       "      <td>Anime</td>\n",
       "      <td>4.3</td>\n",
       "      <td>595</td>\n",
       "      <td>Finalizado</td>\n",
       "      <td>10561</td>\n",
       "      <td>12</td>\n",
       "      <td>Acción,Fantasía,Shounen,</td>\n",
       "    </tr>\n",
       "    <tr>\n",
       "      <th>3407</th>\n",
       "      <td>Tokyo 24-ku</td>\n",
       "      <td>La historia se sitúa en una isla artificial co...</td>\n",
       "      <td>2022</td>\n",
       "      <td>Anime</td>\n",
       "      <td>4.4</td>\n",
       "      <td>398</td>\n",
       "      <td>Finalizado</td>\n",
       "      <td>5895</td>\n",
       "      <td>12</td>\n",
       "      <td>Ciencia Ficción,</td>\n",
       "    </tr>\n",
       "    <tr>\n",
       "      <th>3408</th>\n",
       "      <td>Leadale no Daichi nite</td>\n",
       "      <td>Debido a un terrible accidente, Keina Kagami s...</td>\n",
       "      <td>2022</td>\n",
       "      <td>Anime</td>\n",
       "      <td>4.5</td>\n",
       "      <td>914</td>\n",
       "      <td>Finalizado</td>\n",
       "      <td>10472</td>\n",
       "      <td>12</td>\n",
       "      <td>Aventuras,Fantasía,</td>\n",
       "    </tr>\n",
       "  </tbody>\n",
       "</table>\n",
       "<p>3409 rows × 10 columns</p>\n",
       "</div>"
      ],
      "text/plain": [
       "                                                  title  \\\n",
       "0     Dragon Ball Z Especial: Freezer contra el padr...   \n",
       "1     Dragon Ball Z Pelicula 03: La batalla más gran...   \n",
       "2                                      Lodoss-tou Senki   \n",
       "3                               Fushigi no Umi no Nadia   \n",
       "4     Dragon Ball Z Pelicula 02: El hombre más fuert...   \n",
       "...                                                 ...   \n",
       "3404                            Saiyuuki Reload: Zeroin   \n",
       "3405                Hakozume: Kouban Joshi no Gyakushuu   \n",
       "3406                                             Orient   \n",
       "3407                                        Tokyo 24-ku   \n",
       "3408                             Leadale no Daichi nite   \n",
       "\n",
       "                                            description  year      type  \\\n",
       "0     Los Saiyajin han trabajado muy duro para Freez...  1990       OVA   \n",
       "1     Una banda de desértores del ejército de Freeze...  1990  Película   \n",
       "2     La historia se centra de alrededor de un joven...  1990     Anime   \n",
       "3     La revolución industrial ha terminado y el mun...  1990     Anime   \n",
       "4     La situación empieza con el doctor Uir?, quien...  1990  Película   \n",
       "...                                                 ...   ...       ...   \n",
       "3404  Una vez, la tierra de Togenkyo era una tierra ...  2022     Anime   \n",
       "3405  Seiko Fuji se graduó en la universidad de poli...  2022     Anime   \n",
       "3406  A los 10 años, los mejores amigos, Musashi y K...  2022     Anime   \n",
       "3407  La historia se sitúa en una isla artificial co...  2022     Anime   \n",
       "3408  Debido a un terrible accidente, Keina Kagami s...  2022     Anime   \n",
       "\n",
       "      rate_start  votes      status  followers  episodes  \\\n",
       "0            4.3    218  Finalizado       1249         1   \n",
       "1            3.9    173  Finalizado       1090         1   \n",
       "2            4.4     95  Finalizado        734        13   \n",
       "3            4.5     99  Finalizado        841        39   \n",
       "4            4.1    124  Finalizado       1070         1   \n",
       "...          ...    ...         ...        ...       ...   \n",
       "3404         3.6    230  Finalizado       2953        13   \n",
       "3405         4.3    429  Finalizado       3694        13   \n",
       "3406         4.3    595  Finalizado      10561        12   \n",
       "3407         4.4    398  Finalizado       5895        12   \n",
       "3408         4.5    914  Finalizado      10472        12   \n",
       "\n",
       "                                                genders  \n",
       "0                                                   NaN  \n",
       "1     Aventuras,Ciencia Ficción,Comedia,Fantasía,Sho...  \n",
       "2     Acción,Aventuras,Fantasía,Magia,Shounen,Sobren...  \n",
       "3     Aventuras,Ciencia Ficción,Comedia,Historico,Ro...  \n",
       "4     Aventuras,Ciencia Ficción,Comedia,Fantasía,Sho...  \n",
       "...                                                 ...  \n",
       "3404  Acción,Aventuras,Comedia,Demonios,Drama,Josei,...  \n",
       "3405       Comedia,Policía,Recuentos de la vida,Seinen,  \n",
       "3406                           Acción,Fantasía,Shounen,  \n",
       "3407                                   Ciencia Ficción,  \n",
       "3408                                Aventuras,Fantasía,  \n",
       "\n",
       "[3409 rows x 10 columns]"
      ]
     },
     "execution_count": 14,
     "metadata": {},
     "output_type": "execute_result"
    }
   ],
   "source": [
    "new_df = df[[\"title\",\"description\",\"year\",\"type\",\"rate_start\",\"votes\",\"status\",\"followers\",\"episodes\",\"genders\"]]\n",
    "new_df"
   ]
  },
  {
   "cell_type": "code",
   "execution_count": 15,
   "id": "6d69346a",
   "metadata": {},
   "outputs": [
    {
     "data": {
      "text/plain": [
       "(3409, 10)"
      ]
     },
     "execution_count": 15,
     "metadata": {},
     "output_type": "execute_result"
    }
   ],
   "source": [
    "new_df.shape"
   ]
  },
  {
   "cell_type": "markdown",
   "id": "8fd678cd",
   "metadata": {},
   "source": [
    "## 1. Univariate Analysis"
   ]
  },
  {
   "cell_type": "markdown",
   "id": "2ed31c5e",
   "metadata": {},
   "source": [
    "**A. Anime Categories wise analysis**"
   ]
  },
  {
   "cell_type": "code",
   "execution_count": 16,
   "id": "3af14b6b",
   "metadata": {},
   "outputs": [
    {
     "data": {
      "image/png": "[encoded data removed]",
      "text/plain": [
       "<Figure size 432x288 with 1 Axes>"
      ]
     },
     "metadata": {
      "needs_background": "light"
     },
     "output_type": "display_data"
    }
   ],
   "source": [
    "plt.hist(new_df.type)# c=[\"yellow\",\"red\",\"green\",\"orange\"])\n",
    "plt.show()"
   ]
  },
  {
   "cell_type": "markdown",
   "id": "1c7cfe96",
   "metadata": {},
   "source": [
    "`insight`\n",
    "\n",
    "- Most of the Movie fall under the **Anime** category. The Number of the movie is approximately **2500** and the total no of movie is **3409**. You can see easily the **larger gap between Anime movie and others**\n",
    "- Few movie of the **Especail** category"
   ]
  },
  {
   "cell_type": "markdown",
   "id": "a974feac",
   "metadata": {},
   "source": [
    "**B. Rating of ANIME analysis**"
   ]
  },
  {
   "cell_type": "code",
   "execution_count": 17,
   "id": "cc214707",
   "metadata": {},
   "outputs": [
    {
     "data": {
      "image/png": "[encoded data removed]",
      "text/plain": [
       "<Figure size 432x288 with 1 Axes>"
      ]
     },
     "metadata": {
      "needs_background": "light"
     },
     "output_type": "display_data"
    }
   ],
   "source": [
    "plt.hist(new_df.rate_start, color=\"b\")# c=[\"yellow\",\"red\",\"green\",\"orange\"])\n",
    "plt.show()"
   ]
  },
  {
   "cell_type": "markdown",
   "id": "1a6b83aa",
   "metadata": {},
   "source": [
    "`insight`\n",
    "\n",
    "- In the histogram plot, we can see that maximum anime rated **4.5  or above**."
   ]
  },
  {
   "cell_type": "code",
   "execution_count": null,
   "id": "8bb40965",
   "metadata": {},
   "outputs": [],
   "source": []
  },
  {
   "cell_type": "markdown",
   "id": "10606896",
   "metadata": {},
   "source": [
    "## 2. Bivariate analysis"
   ]
  },
  {
   "cell_type": "markdown",
   "id": "a3ddd938",
   "metadata": {},
   "source": [
    "#### A. Most rated movie in the dataset**"
   ]
  },
  {
   "cell_type": "code",
   "execution_count": 18,
   "id": "806a6b8c",
   "metadata": {},
   "outputs": [
    {
     "data": {
      "text/plain": [
       "4.8"
      ]
     },
     "execution_count": 18,
     "metadata": {},
     "output_type": "execute_result"
    }
   ],
   "source": [
    "new_df.rate_start.max()"
   ]
  },
  {
   "cell_type": "code",
   "execution_count": 19,
   "id": "ec7f1020",
   "metadata": {},
   "outputs": [
    {
     "data": {
      "text/html": [
       "<div>\n",
       "<style scoped>\n",
       "    .dataframe tbody tr th:only-of-type {\n",
       "        vertical-align: middle;\n",
       "    }\n",
       "\n",
       "    .dataframe tbody tr th {\n",
       "        vertical-align: top;\n",
       "    }\n",
       "\n",
       "    .dataframe thead th {\n",
       "        text-align: right;\n",
       "    }\n",
       "</style>\n",
       "<table border=\"1\" class=\"dataframe\">\n",
       "  <thead>\n",
       "    <tr style=\"text-align: right;\">\n",
       "      <th></th>\n",
       "      <th>title</th>\n",
       "      <th>description</th>\n",
       "      <th>year</th>\n",
       "      <th>type</th>\n",
       "      <th>rate_start</th>\n",
       "      <th>votes</th>\n",
       "      <th>status</th>\n",
       "      <th>followers</th>\n",
       "      <th>episodes</th>\n",
       "      <th>genders</th>\n",
       "    </tr>\n",
       "  </thead>\n",
       "  <tbody>\n",
       "    <tr>\n",
       "      <th>172</th>\n",
       "      <td>Great Teacher Onizuka</td>\n",
       "      <td>Eikichi Onizuka, 22 años, soltero\" esta es la ...</td>\n",
       "      <td>1999</td>\n",
       "      <td>Anime</td>\n",
       "      <td>4.8</td>\n",
       "      <td>852</td>\n",
       "      <td>Finalizado</td>\n",
       "      <td>4224</td>\n",
       "      <td>43</td>\n",
       "      <td>Comedia,Drama,Escolares,Recuentos de la vida,S...</td>\n",
       "    </tr>\n",
       "    <tr>\n",
       "      <th>185</th>\n",
       "      <td>Rurouni Kenshin Tsuiokuhen</td>\n",
       "      <td>Un joven niño llamado Shinta es salvado por Hi...</td>\n",
       "      <td>1999</td>\n",
       "      <td>OVA</td>\n",
       "      <td>4.8</td>\n",
       "      <td>278</td>\n",
       "      <td>Finalizado</td>\n",
       "      <td>1242</td>\n",
       "      <td>1</td>\n",
       "      <td>Acción,Artes Marciales,Drama,Historico,Romance...</td>\n",
       "    </tr>\n",
       "    <tr>\n",
       "      <th>234</th>\n",
       "      <td>Chicchana Yukitsukai Sugar</td>\n",
       "      <td>Saga, una chica joven, lleva una vida normal j...</td>\n",
       "      <td>2001</td>\n",
       "      <td>Anime</td>\n",
       "      <td>4.8</td>\n",
       "      <td>19</td>\n",
       "      <td>Finalizado</td>\n",
       "      <td>132</td>\n",
       "      <td>24</td>\n",
       "      <td>Comedia,Fantasía,Recuentos de la vida,</td>\n",
       "    </tr>\n",
       "    <tr>\n",
       "      <th>400</th>\n",
       "      <td>Beck</td>\n",
       "      <td>Koyuki es un chico japonés de 14 años que entr...</td>\n",
       "      <td>2004</td>\n",
       "      <td>Anime</td>\n",
       "      <td>4.8</td>\n",
       "      <td>522</td>\n",
       "      <td>Finalizado</td>\n",
       "      <td>2190</td>\n",
       "      <td>26</td>\n",
       "      <td>Comedia,Drama,Música,Recuentos de la vida,Shou...</td>\n",
       "    </tr>\n",
       "    <tr>\n",
       "      <th>494</th>\n",
       "      <td>Magical Girl Lyrical Nanoha A's</td>\n",
       "      <td>Han pasado 6 meses desde el incidente con Prec...</td>\n",
       "      <td>2005</td>\n",
       "      <td>Anime</td>\n",
       "      <td>4.8</td>\n",
       "      <td>77</td>\n",
       "      <td>Finalizado</td>\n",
       "      <td>375</td>\n",
       "      <td>13</td>\n",
       "      <td>Acción,Comedia,Drama,Magia,Superpoderes,</td>\n",
       "    </tr>\n",
       "    <tr>\n",
       "      <th>...</th>\n",
       "      <td>...</td>\n",
       "      <td>...</td>\n",
       "      <td>...</td>\n",
       "      <td>...</td>\n",
       "      <td>...</td>\n",
       "      <td>...</td>\n",
       "      <td>...</td>\n",
       "      <td>...</td>\n",
       "      <td>...</td>\n",
       "      <td>...</td>\n",
       "    </tr>\n",
       "    <tr>\n",
       "      <th>3323</th>\n",
       "      <td>Gotoubun no Hanayome 2nd Season</td>\n",
       "      <td>Un día, el estudiante pobre de preparatoria Fu...</td>\n",
       "      <td>2021</td>\n",
       "      <td>Anime</td>\n",
       "      <td>4.8</td>\n",
       "      <td>5192</td>\n",
       "      <td>Finalizado</td>\n",
       "      <td>26826</td>\n",
       "      <td>12</td>\n",
       "      <td>Comedia,Escolares,Harem,Romance,Shounen,</td>\n",
       "    </tr>\n",
       "    <tr>\n",
       "      <th>3326</th>\n",
       "      <td>Hataraku Saibou!!</td>\n",
       "      <td>Segunda temporada de Hataraku Saibou</td>\n",
       "      <td>2021</td>\n",
       "      <td>Anime</td>\n",
       "      <td>4.8</td>\n",
       "      <td>1015</td>\n",
       "      <td>Finalizado</td>\n",
       "      <td>13987</td>\n",
       "      <td>8</td>\n",
       "      <td>Comedia,Shounen,</td>\n",
       "    </tr>\n",
       "    <tr>\n",
       "      <th>3342</th>\n",
       "      <td>Honzuki no Gekokujou: Shisho ni Naru Tame ni w...</td>\n",
       "      <td>Tercera temporada de Honzuki no Gekokujou: Shi...</td>\n",
       "      <td>2022</td>\n",
       "      <td>Anime</td>\n",
       "      <td>4.8</td>\n",
       "      <td>508</td>\n",
       "      <td>Finalizado</td>\n",
       "      <td>2735</td>\n",
       "      <td>10</td>\n",
       "      <td>Fantasía,Recuentos de la vida,</td>\n",
       "    </tr>\n",
       "    <tr>\n",
       "      <th>3347</th>\n",
       "      <td>Spy x Family</td>\n",
       "      <td>Todo el mundo tiene una parte de sí mismos que...</td>\n",
       "      <td>2022</td>\n",
       "      <td>Anime</td>\n",
       "      <td>4.8</td>\n",
       "      <td>3355</td>\n",
       "      <td>En emision</td>\n",
       "      <td>52183</td>\n",
       "      <td>11</td>\n",
       "      <td>Acción,Comedia,Shounen,</td>\n",
       "    </tr>\n",
       "    <tr>\n",
       "      <th>3353</th>\n",
       "      <td>Kaguya-sama wa Kokurasetai: Ultra Romantic</td>\n",
       "      <td>Tercera temporada de Kaguya-sama wa Kokurasetai</td>\n",
       "      <td>2022</td>\n",
       "      <td>Anime</td>\n",
       "      <td>4.8</td>\n",
       "      <td>1153</td>\n",
       "      <td>En emision</td>\n",
       "      <td>19263</td>\n",
       "      <td>11</td>\n",
       "      <td>Comedia,Escolares,Psicológico,Romance,Seinen,</td>\n",
       "    </tr>\n",
       "  </tbody>\n",
       "</table>\n",
       "<p>113 rows × 10 columns</p>\n",
       "</div>"
      ],
      "text/plain": [
       "                                                  title  \\\n",
       "172                               Great Teacher Onizuka   \n",
       "185                          Rurouni Kenshin Tsuiokuhen   \n",
       "234                          Chicchana Yukitsukai Sugar   \n",
       "400                                                Beck   \n",
       "494                     Magical Girl Lyrical Nanoha A's   \n",
       "...                                                 ...   \n",
       "3323                    Gotoubun no Hanayome 2nd Season   \n",
       "3326                                  Hataraku Saibou!!   \n",
       "3342  Honzuki no Gekokujou: Shisho ni Naru Tame ni w...   \n",
       "3347                                       Spy x Family   \n",
       "3353         Kaguya-sama wa Kokurasetai: Ultra Romantic   \n",
       "\n",
       "                                            description  year   type  \\\n",
       "172   Eikichi Onizuka, 22 años, soltero\" esta es la ...  1999  Anime   \n",
       "185   Un joven niño llamado Shinta es salvado por Hi...  1999    OVA   \n",
       "234   Saga, una chica joven, lleva una vida normal j...  2001  Anime   \n",
       "400   Koyuki es un chico japonés de 14 años que entr...  2004  Anime   \n",
       "494   Han pasado 6 meses desde el incidente con Prec...  2005  Anime   \n",
       "...                                                 ...   ...    ...   \n",
       "3323  Un día, el estudiante pobre de preparatoria Fu...  2021  Anime   \n",
       "3326               Segunda temporada de Hataraku Saibou  2021  Anime   \n",
       "3342  Tercera temporada de Honzuki no Gekokujou: Shi...  2022  Anime   \n",
       "3347  Todo el mundo tiene una parte de sí mismos que...  2022  Anime   \n",
       "3353    Tercera temporada de Kaguya-sama wa Kokurasetai  2022  Anime   \n",
       "\n",
       "      rate_start  votes      status  followers  episodes  \\\n",
       "172          4.8    852  Finalizado       4224        43   \n",
       "185          4.8    278  Finalizado       1242         1   \n",
       "234          4.8     19  Finalizado        132        24   \n",
       "400          4.8    522  Finalizado       2190        26   \n",
       "494          4.8     77  Finalizado        375        13   \n",
       "...          ...    ...         ...        ...       ...   \n",
       "3323         4.8   5192  Finalizado      26826        12   \n",
       "3326         4.8   1015  Finalizado      13987         8   \n",
       "3342         4.8    508  Finalizado       2735        10   \n",
       "3347         4.8   3355  En emision      52183        11   \n",
       "3353         4.8   1153  En emision      19263        11   \n",
       "\n",
       "                                                genders  \n",
       "172   Comedia,Drama,Escolares,Recuentos de la vida,S...  \n",
       "185   Acción,Artes Marciales,Drama,Historico,Romance...  \n",
       "234              Comedia,Fantasía,Recuentos de la vida,  \n",
       "400   Comedia,Drama,Música,Recuentos de la vida,Shou...  \n",
       "494            Acción,Comedia,Drama,Magia,Superpoderes,  \n",
       "...                                                 ...  \n",
       "3323           Comedia,Escolares,Harem,Romance,Shounen,  \n",
       "3326                                   Comedia,Shounen,  \n",
       "3342                     Fantasía,Recuentos de la vida,  \n",
       "3347                            Acción,Comedia,Shounen,  \n",
       "3353      Comedia,Escolares,Psicológico,Romance,Seinen,  \n",
       "\n",
       "[113 rows x 10 columns]"
      ]
     },
     "execution_count": 19,
     "metadata": {},
     "output_type": "execute_result"
    }
   ],
   "source": [
    "new_df[new_df[\"rate_start\"]==4.8]"
   ]
  },
  {
   "cell_type": "markdown",
   "id": "0c8f4439",
   "metadata": {},
   "source": [
    "**Total no of 4.8 rated movies (Count of Most rated movies)**"
   ]
  },
  {
   "cell_type": "code",
   "execution_count": 20,
   "id": "683d8e57",
   "metadata": {},
   "outputs": [
    {
     "data": {
      "text/plain": [
       "113"
      ]
     },
     "execution_count": 20,
     "metadata": {},
     "output_type": "execute_result"
    }
   ],
   "source": [
    "len(new_df[new_df[\"rate_start\"]==4.8])"
   ]
  },
  {
   "cell_type": "markdown",
   "id": "5b8714df",
   "metadata": {},
   "source": [
    "#### B. Least rated movie in the dataset**"
   ]
  },
  {
   "cell_type": "code",
   "execution_count": 21,
   "id": "43c21a4e",
   "metadata": {},
   "outputs": [
    {
     "data": {
      "text/plain": [
       "1.7"
      ]
     },
     "execution_count": 21,
     "metadata": {},
     "output_type": "execute_result"
    }
   ],
   "source": [
    "new_df.rate_start.min()"
   ]
  },
  {
   "cell_type": "code",
   "execution_count": 22,
   "id": "fc5d64be",
   "metadata": {},
   "outputs": [
    {
     "data": {
      "text/html": [
       "<div>\n",
       "<style scoped>\n",
       "    .dataframe tbody tr th:only-of-type {\n",
       "        vertical-align: middle;\n",
       "    }\n",
       "\n",
       "    .dataframe tbody tr th {\n",
       "        vertical-align: top;\n",
       "    }\n",
       "\n",
       "    .dataframe thead th {\n",
       "        text-align: right;\n",
       "    }\n",
       "</style>\n",
       "<table border=\"1\" class=\"dataframe\">\n",
       "  <thead>\n",
       "    <tr style=\"text-align: right;\">\n",
       "      <th></th>\n",
       "      <th>title</th>\n",
       "      <th>description</th>\n",
       "      <th>year</th>\n",
       "      <th>type</th>\n",
       "      <th>rate_start</th>\n",
       "      <th>votes</th>\n",
       "      <th>status</th>\n",
       "      <th>followers</th>\n",
       "      <th>episodes</th>\n",
       "      <th>genders</th>\n",
       "    </tr>\n",
       "  </thead>\n",
       "  <tbody>\n",
       "    <tr>\n",
       "      <th>3391</th>\n",
       "      <td>Sabiiro no Armor: Reimei</td>\n",
       "      <td>El proyecto se centra en la relación entre Mag...</td>\n",
       "      <td>2022</td>\n",
       "      <td>Anime</td>\n",
       "      <td>1.7</td>\n",
       "      <td>475</td>\n",
       "      <td>Finalizado</td>\n",
       "      <td>926</td>\n",
       "      <td>12</td>\n",
       "      <td>Historico,Samurai,</td>\n",
       "    </tr>\n",
       "  </tbody>\n",
       "</table>\n",
       "</div>"
      ],
      "text/plain": [
       "                         title  \\\n",
       "3391  Sabiiro no Armor: Reimei   \n",
       "\n",
       "                                            description  year   type  \\\n",
       "3391  El proyecto se centra en la relación entre Mag...  2022  Anime   \n",
       "\n",
       "      rate_start  votes      status  followers  episodes             genders  \n",
       "3391         1.7    475  Finalizado        926        12  Historico,Samurai,  "
      ]
     },
     "execution_count": 22,
     "metadata": {},
     "output_type": "execute_result"
    }
   ],
   "source": [
    "new_df[new_df[\"rate_start\"]==1.7]"
   ]
  },
  {
   "cell_type": "markdown",
   "id": "4f9696fa",
   "metadata": {},
   "source": [
    "**Total no of 4.8 rated movies (Count of Most rated movies)**"
   ]
  },
  {
   "cell_type": "code",
   "execution_count": 23,
   "id": "9d188b54",
   "metadata": {},
   "outputs": [
    {
     "data": {
      "text/plain": [
       "1"
      ]
     },
     "execution_count": 23,
     "metadata": {},
     "output_type": "execute_result"
    }
   ],
   "source": [
    "len(new_df[new_df[\"rate_start\"]==1.7])"
   ]
  },
  {
   "cell_type": "markdown",
   "id": "44fc8ef1",
   "metadata": {},
   "source": [
    "**insight**\n",
    "\n",
    "- **maximum and minimum** anime are **4.8 and 1.7** respectively.\n",
    "- **4.8 rated** anime are **more than 1.7** rated anime with respect to count of the rate.\n",
    "- Here only one movie rated as wrost anime and Anime name is **\"Sabiiro no Armor: Reimei\"**\n",
    "- **113** movies are **4.8** rated and **1** movie are rated as **1.7**."
   ]
  },
  {
   "cell_type": "markdown",
   "id": "9c062d3e",
   "metadata": {},
   "source": [
    "### C. Status of the movies "
   ]
  },
  {
   "cell_type": "code",
   "execution_count": 25,
   "id": "a3aca4b4",
   "metadata": {},
   "outputs": [
    {
     "data": {
      "text/plain": [
       "Finalizado      3365\n",
       "En emision        37\n",
       "Proximamente       7\n",
       "Name: status, dtype: int64"
      ]
     },
     "execution_count": 25,
     "metadata": {},
     "output_type": "execute_result"
    }
   ],
   "source": [
    "new_df.status.value_counts()"
   ]
  },
  {
   "cell_type": "code",
   "execution_count": 26,
   "id": "56cfe6f6",
   "metadata": {},
   "outputs": [
    {
     "data": {
      "image/png": "[encoded data removed]",
      "text/plain": [
       "<Figure size 432x288 with 1 Axes>"
      ]
     },
     "metadata": {
      "needs_background": "light"
     },
     "output_type": "display_data"
    }
   ],
   "source": [
    "new_df.status.value_counts().plot.bar(color=[\"green\",\"b\",\"r\"])\n",
    "plt.show()"
   ]
  },
  {
   "cell_type": "markdown",
   "id": "0fc06e37",
   "metadata": {},
   "source": [
    "`insight`\n",
    "\n",
    "- All anime are completed.  (Finalizado == Completed)\n",
    "- Proximamente (comming soon) of some anime movies exactly 7 movies.."
   ]
  },
  {
   "cell_type": "markdown",
   "id": "46acb63b",
   "metadata": {},
   "source": [
    "### D. Total number of animes over the years"
   ]
  },
  {
   "cell_type": "code",
   "execution_count": 27,
   "id": "f0624fca",
   "metadata": {
    "scrolled": true
   },
   "outputs": [
    {
     "data": {
      "image/png": "[encoded data removed]",
      "text/plain": [
       "<Figure size 1800x720 with 1 Axes>"
      ]
     },
     "metadata": {
      "needs_background": "light"
     },
     "output_type": "display_data"
    }
   ],
   "source": [
    "col_x = df[\"year\"].unique().tolist()\n",
    "col_y = [ len(df[df[\"year\"] == x]) for x in col_x]\n",
    "\n",
    "plt.figure(figsize=(25,10))\n",
    "plt.bar(col_x, col_y)\n",
    "plt.show()"
   ]
  },
  {
   "cell_type": "markdown",
   "id": "172ce85f",
   "metadata": {},
   "source": [
    "The graph shows the great growth of anime series over the years, upto about 2016. A Spike si observed until 2022, It is said that anime is in a new golden age, due to the fact that it is mass entertainment without limits. But currently, the data does not convey the same.\n",
    "\n",
    "\n",
    "Although, it is possible that we may see a significant increase in the short term. Platforms like Netflix started creating their own series and adding others from third parties."
   ]
  },
  {
   "cell_type": "markdown",
   "id": "a38d0b6b",
   "metadata": {},
   "source": [
    "### E. Anime that have had the most followings"
   ]
  },
  {
   "cell_type": "code",
   "execution_count": 28,
   "id": "ea12915a",
   "metadata": {},
   "outputs": [
    {
     "data": {
      "text/html": [
       "<div>\n",
       "<style scoped>\n",
       "    .dataframe tbody tr th:only-of-type {\n",
       "        vertical-align: middle;\n",
       "    }\n",
       "\n",
       "    .dataframe tbody tr th {\n",
       "        vertical-align: top;\n",
       "    }\n",
       "\n",
       "    .dataframe thead th {\n",
       "        text-align: right;\n",
       "    }\n",
       "</style>\n",
       "<table border=\"1\" class=\"dataframe\">\n",
       "  <thead>\n",
       "    <tr style=\"text-align: right;\">\n",
       "      <th></th>\n",
       "      <th>title</th>\n",
       "      <th>status</th>\n",
       "      <th>followers</th>\n",
       "      <th>episodes</th>\n",
       "      <th>genders</th>\n",
       "    </tr>\n",
       "  </thead>\n",
       "  <tbody>\n",
       "    <tr>\n",
       "      <th>158</th>\n",
       "      <td>One Piece</td>\n",
       "      <td>En emision</td>\n",
       "      <td>162714</td>\n",
       "      <td>1022</td>\n",
       "      <td>Acción,Aventuras,Comedia,Drama,Fantasía,Shoune...</td>\n",
       "    </tr>\n",
       "    <tr>\n",
       "      <th>2527</th>\n",
       "      <td>Black Clover (TV)</td>\n",
       "      <td>Finalizado</td>\n",
       "      <td>126100</td>\n",
       "      <td>170</td>\n",
       "      <td>Acción,Comedia,Fantasía,Magia,Shounen,</td>\n",
       "    </tr>\n",
       "    <tr>\n",
       "      <th>2613</th>\n",
       "      <td>Boruto: Naruto Next Generations</td>\n",
       "      <td>En emision</td>\n",
       "      <td>122289</td>\n",
       "      <td>254</td>\n",
       "      <td>Acción,Artes Marciales,Aventuras,Shounen,Super...</td>\n",
       "    </tr>\n",
       "  </tbody>\n",
       "</table>\n",
       "</div>"
      ],
      "text/plain": [
       "                                title      status  followers  episodes  \\\n",
       "158                         One Piece  En emision     162714      1022   \n",
       "2527                Black Clover (TV)  Finalizado     126100       170   \n",
       "2613  Boruto: Naruto Next Generations  En emision     122289       254   \n",
       "\n",
       "                                                genders  \n",
       "158   Acción,Aventuras,Comedia,Drama,Fantasía,Shoune...  \n",
       "2527             Acción,Comedia,Fantasía,Magia,Shounen,  \n",
       "2613  Acción,Artes Marciales,Aventuras,Shounen,Super...  "
      ]
     },
     "execution_count": 28,
     "metadata": {},
     "output_type": "execute_result"
    }
   ],
   "source": [
    "new_df = df.sort_values(by='followers', ascending=False)\n",
    "new_df = new_df[['title', 'status', 'followers', 'episodes', 'genders']].head(n=3)\n",
    "new_df\n"
   ]
  },
  {
   "cell_type": "code",
   "execution_count": 34,
   "id": "6c653cba",
   "metadata": {},
   "outputs": [
    {
     "data": {
      "image/png": "[encoded data removed]",
      "text/plain": [
       "<Figure size 432x288 with 1 Axes>"
      ]
     },
     "metadata": {
      "needs_background": "light"
     },
     "output_type": "display_data"
    }
   ],
   "source": [
    "\n",
    "y = new_df.followers.sort_values(ascending=True).head(3)\n",
    "sns.scatterplot(new_df.title.head(3),y, c=['green','orange','brown'])\n",
    "plt.show()"
   ]
  },
  {
   "cell_type": "markdown",
   "id": "0005c642",
   "metadata": {},
   "source": [
    "`insight`\n",
    "\n",
    "- In case Top 3 of followers, It is lead by the **\"One Piece\"** with **more than 162000** followers. This series have on air **1022 episodes**. That makes the more **intresting** anime. \n",
    "\n",
    "- Others are **Black Clover** and **Boruto**, which have a difference of about **4000** followers."
   ]
  },
  {
   "cell_type": "markdown",
   "id": "4fb6ab0a",
   "metadata": {},
   "source": [
    "### F. Genres preferred by audiences"
   ]
  },
  {
   "cell_type": "markdown",
   "id": "b5fe870b",
   "metadata": {},
   "source": [
    "- Anime has several genres, and may contain one or more genres."
   ]
  },
  {
   "cell_type": "code",
   "execution_count": 30,
   "id": "5841263c",
   "metadata": {},
   "outputs": [
    {
     "data": {
      "text/plain": [
       "158     Acción,Aventuras,Comedia,Drama,Fantasía,Shoune...\n",
       "2527               Acción,Comedia,Fantasía,Magia,Shounen,\n",
       "2613    Acción,Artes Marciales,Aventuras,Shounen,Super...\n",
       "Name: genders, dtype: object"
      ]
     },
     "execution_count": 30,
     "metadata": {},
     "output_type": "execute_result"
    }
   ],
   "source": [
    "new_df.genders"
   ]
  },
  {
   "cell_type": "code",
   "execution_count": 31,
   "id": "88f507ef",
   "metadata": {},
   "outputs": [
    {
     "data": {
      "image/png": "[encoded data removed]",
      "text/plain": [
       "<Figure size 1080x2160 with 1 Axes>"
      ]
     },
     "metadata": {},
     "output_type": "display_data"
    }
   ],
   "source": [
    "genders = []\n",
    "genders_count = {}\n",
    "\n",
    "for gender in df['genders'].fillna('').tolist():\n",
    "    gender_array = [x for x in str(gender).split(',') if x != '' and x != 'nan']\n",
    "    genders.extend(gender_array)\n",
    "\n",
    "genders = np.unique(genders).tolist()\n",
    "\n",
    "for gender in genders:\n",
    "    genders_count.update({\n",
    "        gender: len(df[df['genders'].fillna('').str.contains(gender)])\n",
    "    })\n",
    "\n",
    "plt.figure(figsize=(15,30))\n",
    "plt.pie(list(genders_count.values()), labels=list(genders_count.keys()), autopct=\"%0.2f\", shadow=True,normalize=True )\n",
    "plt.show()\n"
   ]
  },
  {
   "cell_type": "code",
   "execution_count": 32,
   "id": "15ac6ee2",
   "metadata": {},
   "outputs": [
    {
     "name": "stdout",
     "output_type": "stream",
     "text": [
      "['Acción', 1233]\n",
      "['Artes Marciales', 101]\n",
      "['Aventuras', 599]\n",
      "['Carreras', 14]\n",
      "['Ciencia Ficción', 621]\n",
      "['Comedia', 1576]\n",
      "['Demencia', 7]\n",
      "['Demonios', 127]\n",
      "['Deportes', 191]\n",
      "['Drama', 756]\n",
      "['Ecchi', 372]\n",
      "['Escolares', 743]\n",
      "['Espacial', 106]\n",
      "['Fantasía', 878]\n",
      "['Harem', 223]\n",
      "['Historico', 198]\n",
      "['Infantil', 45]\n",
      "['Josei', 42]\n",
      "['Juegos', 86]\n",
      "['Magia', 374]\n",
      "['Mecha', 236]\n",
      "['Militar', 179]\n",
      "['Misterio', 248]\n",
      "['Música', 159]\n",
      "['Parodia', 104]\n",
      "['Policía', 42]\n",
      "['Psicológico', 143]\n",
      "['Recuentos de la vida', 548]\n",
      "['Romance', 786]\n",
      "['Samurai', 61]\n",
      "['Seinen', 324]\n",
      "['Shoujo', 215]\n",
      "['Shounen', 695]\n",
      "['Sobrenatural', 601]\n",
      "['Superpoderes', 223]\n",
      "['Suspenso', 60]\n",
      "['Terror', 136]\n",
      "['Vampiros', 67]\n",
      "['Yaoi', 42]\n",
      "['Yuri', 44]\n"
     ]
    }
   ],
   "source": [
    "genders_sort = sorted(genders_count.items(),  reverse=False)\n",
    "\n",
    "for i in genders_sort:\n",
    "    l_gen = list(i)\n",
    "    print( l_gen)\n",
    "    "
   ]
  },
  {
   "cell_type": "markdown",
   "id": "8f20d3d8",
   "metadata": {},
   "source": [
    "`insight`\n",
    "\n",
    "- In the data, we can be seen that the **Comedy (Comedia) genre** contains a large numbers of series, **(1576)**.\n",
    "\n",
    "- After that follows Action {Acción), Fantasy (Fantasía) and so more."
   ]
  },
  {
   "cell_type": "markdown",
   "id": "ae2cc329",
   "metadata": {},
   "source": [
    "## Conclusion"
   ]
  },
  {
   "cell_type": "markdown",
   "id": "5ee16d92",
   "metadata": {},
   "source": [
    "- Data indicate the, more peoples intrested in **Comedy** and **Action** genres of the Anime series.\n",
    "- There are not more series premiering as before, possible reason to be **they are still being made**  or some have been **canceled**. \n",
    "- it is a sector where the **audience is so important and loyal**, that even the **creators prefer to prioritize the most followed genres or types of anime**, rather than others with less content."
   ]
  }
 ],
 "metadata": {
  "kernelspec": {
   "display_name": "Python 3 (ipykernel)",
   "language": "python",
   "name": "python3"
  },
  "language_info": {
   "codemirror_mode": {
    "name": "ipython",
    "version": 3
   },
   "file_extension": ".py",
   "mimetype": "text/x-python",
   "name": "python",
   "nbconvert_exporter": "python",
   "pygments_lexer": "ipython3",
   "version": "3.9.7"
  }
 },
 "nbformat": 4,
 "nbformat_minor": 5
}
